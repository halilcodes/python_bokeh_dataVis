{
 "cells": [
  {
   "cell_type": "code",
   "execution_count": 4,
   "id": "3fe5dbbd-4a2e-4a52-a6b8-6e5d0625dfe5",
   "metadata": {},
   "outputs": [],
   "source": [
    "# making a basic bokeh line graph\n",
    "\n",
    "from bokeh.plotting import figure\n",
    "from bokeh.io import output_file, show, save"
   ]
  },
  {
   "cell_type": "code",
   "execution_count": 2,
   "id": "33a28d4d-5473-4307-b453-cddd9cf50007",
   "metadata": {},
   "outputs": [],
   "source": [
    "# prepare some data\n",
    "\n",
    "x = [1, 2, 3, 4, 5]\n",
    "y = [6, 7, 8, 9, 10]\n",
    "\n",
    "# prepare the output file\n",
    "output_file('line.html')\n",
    "\n",
    "# create figure objects\n",
    "f = figure()\n",
    "\n",
    "#create line plot\n",
    "f.line(x, y)\n",
    "\n",
    "show(f)"
   ]
  },
  {
   "cell_type": "code",
   "execution_count": 5,
   "id": "ae6d0a6c-d003-4aa7-a780-4955c7c8658b",
   "metadata": {},
   "outputs": [
    {
     "data": {
      "text/plain": [
       "'C:\\\\Users\\\\halil\\\\Desktop\\\\Coding_2023\\\\Courses\\\\ardit_mega_course\\\\python_bokeh_dataVis\\\\1-intro\\\\challenge.html'"
      ]
     },
     "execution_count": 5,
     "metadata": {},
     "output_type": "execute_result"
    }
   ],
   "source": [
    "x = [3, 7.5, 10]\n",
    "y = [3, 6, 9]\n",
    "fig = figure()\n",
    "output_file(\"challenge.html\")\n",
    "fig.scatter(x, y)\n",
    "save(fig)"
   ]
  },
  {
   "cell_type": "code",
   "execution_count": null,
   "id": "313be81d-0e65-4b87-b8bd-dfae9149d3d9",
   "metadata": {},
   "outputs": [],
   "source": []
  }
 ],
 "metadata": {
  "kernelspec": {
   "display_name": "Python 3 (ipykernel)",
   "language": "python",
   "name": "python3"
  },
  "language_info": {
   "codemirror_mode": {
    "name": "ipython",
    "version": 3
   },
   "file_extension": ".py",
   "mimetype": "text/x-python",
   "name": "python",
   "nbconvert_exporter": "python",
   "pygments_lexer": "ipython3",
   "version": "3.11.3"
  }
 },
 "nbformat": 4,
 "nbformat_minor": 5
}
