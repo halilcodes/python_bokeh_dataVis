{
 "cells": [
  {
   "cell_type": "code",
   "execution_count": 5,
   "id": "3fe5dbbd-4a2e-4a52-a6b8-6e5d0625dfe5",
   "metadata": {},
   "outputs": [],
   "source": [
    "# making a basic bokeh line graph\n",
    "\n",
    "from bokeh.plotting import figure\n",
    "from bokeh.io import output_file, show"
   ]
  },
  {
   "cell_type": "code",
   "execution_count": 12,
   "id": "33a28d4d-5473-4307-b453-cddd9cf50007",
   "metadata": {},
   "outputs": [],
   "source": [
    "# prepare some data\n",
    "\n",
    "x = [1, 2, 3, 4, 5]\n",
    "y = [6, 7, 8, 9, 10]\n",
    "\n",
    "# prepare the output file\n",
    "output_file('line.html')\n",
    "\n",
    "# create figure objects\n",
    "f = figure()\n",
    "\n",
    "#create line plot\n",
    "f.line(x, y)\n",
    "\n",
    "show(f)"
   ]
  },
  {
   "cell_type": "code",
   "execution_count": 13,
   "id": "ae6d0a6c-d003-4aa7-a780-4955c7c8658b",
   "metadata": {},
   "outputs": [],
   "source": [
    "x = [3, 7.5, 10]\n",
    "y = [3, 6, 9]"
   ]
  },
  {
   "cell_type": "code",
   "execution_count": 14,
   "id": "eb10e775-bb43-40d5-95aa-010f5880c277",
   "metadata": {},
   "outputs": [],
   "source": [
    "output_file(\"challenge.html\")\n",
    "f "
   ]
  },
  {
   "cell_type": "code",
   "execution_count": null,
   "id": "313be81d-0e65-4b87-b8bd-dfae9149d3d9",
   "metadata": {},
   "outputs": [],
   "source": []
  }
 ],
 "metadata": {
  "kernelspec": {
   "display_name": "Python 3 (ipykernel)",
   "language": "python",
   "name": "python3"
  },
  "language_info": {
   "codemirror_mode": {
    "name": "ipython",
    "version": 3
   },
   "file_extension": ".py",
   "mimetype": "text/x-python",
   "name": "python",
   "nbconvert_exporter": "python",
   "pygments_lexer": "ipython3",
   "version": "3.11.3"
  }
 },
 "nbformat": 4,
 "nbformat_minor": 5
}
