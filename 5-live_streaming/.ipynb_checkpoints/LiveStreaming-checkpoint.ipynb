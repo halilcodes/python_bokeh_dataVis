{
 "cells": [
  {
   "cell_type": "code",
   "execution_count": 15,
   "id": "7c16b214-f544-46b4-beaf-1519cf2b8399",
   "metadata": {},
   "outputs": [],
   "source": [
    "from random import randrange\n",
    "\n",
    "from bokeh.io import curdoc\n",
    "from bokeh.models import ColumnDataSource\n",
    "from bokeh.plotting import figure\n"
   ]
  },
  {
   "cell_type": "code",
   "execution_count": 14,
   "id": "801b572e-4374-4868-9396-410ee1d83ef7",
   "metadata": {},
   "outputs": [
    {
     "data": {
      "text/plain": [
       "4"
      ]
     },
     "execution_count": 14,
     "metadata": {},
     "output_type": "execute_result"
    }
   ],
   "source": [
    "randrange(1,10)"
   ]
  },
  {
   "cell_type": "code",
   "execution_count": null,
   "id": "9e5d8671-ff88-4d2e-ab34-bf899084dfd5",
   "metadata": {},
   "outputs": [],
   "source": [
    "# create figure\n",
    "f = figure()\n",
    "source = "
   ]
  }
 ],
 "metadata": {
  "kernelspec": {
   "display_name": "Python 3 (ipykernel)",
   "language": "python",
   "name": "python3"
  },
  "language_info": {
   "codemirror_mode": {
    "name": "ipython",
    "version": 3
   },
   "file_extension": ".py",
   "mimetype": "text/x-python",
   "name": "python",
   "nbconvert_exporter": "python",
   "pygments_lexer": "ipython3",
   "version": "3.11.3"
  }
 },
 "nbformat": 4,
 "nbformat_minor": 5
}
