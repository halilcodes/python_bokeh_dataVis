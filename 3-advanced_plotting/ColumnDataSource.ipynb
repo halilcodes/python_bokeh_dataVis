{
 "cells": [
  {
   "cell_type": "code",
   "execution_count": 55,
   "id": "2d0a0b77-f427-42c4-9261-4dd826ac8e1d",
   "metadata": {},
   "outputs": [],
   "source": [
    "#Plotting flower species\n",
    "\n",
    "#Importing libraries\n",
    "from bokeh.plotting import figure\n",
    "from bokeh.io import output_file, show\n",
    "from bokeh.sampledata.iris import flowers\n",
    "from bokeh.models import Range1d, PanTool, ResetTool, HoverTool, ColumnDataSource, LabelSet\n",
    "\n",
    "colormap={'setosa':'red','versicolor':'green','virginica':'blue'}\n",
    "flowers['color'] = [colormap[x] for x in flowers['species']]\n",
    "flowers['size'] = flowers['sepal_width'] * 4\n",
    "\n",
    "setosa = ColumnDataSource(flowers[flowers[\"species\"]==\"setosa\"])\n",
    "versicolor = ColumnDataSource(flowers[flowers[\"species\"]==\"versicolor\"])\n",
    "virginica = ColumnDataSource(flowers[flowers[\"species\"]==\"virginica\"])\n",
    "\n",
    "#Define the output file path\n",
    "output_file(\"iris.html\")\n",
    "\n",
    "#Create the figure object\n",
    "f = figure()\n",
    "\n",
    "#adding glyphs\n",
    "\n",
    "f.circle(x=\"petal_length\", y=\"petal_width\", size='size', fill_alpha=0.2, \n",
    "         color=\"color\", line_dash='dotted', legend_label='Setosa', source=setosa)\n",
    "\n",
    "f.circle(x=\"petal_length\", y=\"petal_width\", size='size', fill_alpha=0.2, \n",
    "        color=\"color\", line_dash='dotted', legend_label='Versicolor', source=versicolor)\n",
    "\n",
    "f.circle(x=\"petal_length\", y=\"petal_width\", size='size', fill_alpha=0.2,\n",
    "        color=\"color\", line_dash='dotted', legend_label='Virginica', source=virginica)\n",
    "\n",
    "f.legend.location = \"top_left\"\n",
    "\n",
    "# f.circle(x=\"petal_length\", y=\"petal_width\", color='color', size='size', source=setosa, fill_alpha=0.2, line_dash='dotted', legend_label='Virginica')\n",
    "\n",
    "#Save and show the figure\n",
    "show(f)\n"
   ]
  },
  {
   "cell_type": "code",
   "execution_count": 43,
   "id": "d3806366-3c0c-4785-aa7a-461072fba4ba",
   "metadata": {},
   "outputs": [
    {
     "data": {
      "text/html": [
       "<div>\n",
       "<style scoped>\n",
       "    .dataframe tbody tr th:only-of-type {\n",
       "        vertical-align: middle;\n",
       "    }\n",
       "\n",
       "    .dataframe tbody tr th {\n",
       "        vertical-align: top;\n",
       "    }\n",
       "\n",
       "    .dataframe thead th {\n",
       "        text-align: right;\n",
       "    }\n",
       "</style>\n",
       "<table border=\"1\" class=\"dataframe\">\n",
       "  <thead>\n",
       "    <tr style=\"text-align: right;\">\n",
       "      <th></th>\n",
       "      <th>sepal_length</th>\n",
       "      <th>sepal_width</th>\n",
       "      <th>petal_length</th>\n",
       "      <th>petal_width</th>\n",
       "      <th>species</th>\n",
       "      <th>color</th>\n",
       "      <th>size</th>\n",
       "    </tr>\n",
       "  </thead>\n",
       "  <tbody>\n",
       "    <tr>\n",
       "      <th>0</th>\n",
       "      <td>5.1</td>\n",
       "      <td>3.5</td>\n",
       "      <td>1.4</td>\n",
       "      <td>0.2</td>\n",
       "      <td>setosa</td>\n",
       "      <td>red</td>\n",
       "      <td>14.0</td>\n",
       "    </tr>\n",
       "    <tr>\n",
       "      <th>1</th>\n",
       "      <td>4.9</td>\n",
       "      <td>3.0</td>\n",
       "      <td>1.4</td>\n",
       "      <td>0.2</td>\n",
       "      <td>setosa</td>\n",
       "      <td>red</td>\n",
       "      <td>12.0</td>\n",
       "    </tr>\n",
       "    <tr>\n",
       "      <th>2</th>\n",
       "      <td>4.7</td>\n",
       "      <td>3.2</td>\n",
       "      <td>1.3</td>\n",
       "      <td>0.2</td>\n",
       "      <td>setosa</td>\n",
       "      <td>red</td>\n",
       "      <td>12.8</td>\n",
       "    </tr>\n",
       "    <tr>\n",
       "      <th>3</th>\n",
       "      <td>4.6</td>\n",
       "      <td>3.1</td>\n",
       "      <td>1.5</td>\n",
       "      <td>0.2</td>\n",
       "      <td>setosa</td>\n",
       "      <td>red</td>\n",
       "      <td>12.4</td>\n",
       "    </tr>\n",
       "    <tr>\n",
       "      <th>4</th>\n",
       "      <td>5.0</td>\n",
       "      <td>3.6</td>\n",
       "      <td>1.4</td>\n",
       "      <td>0.2</td>\n",
       "      <td>setosa</td>\n",
       "      <td>red</td>\n",
       "      <td>14.4</td>\n",
       "    </tr>\n",
       "  </tbody>\n",
       "</table>\n",
       "</div>"
      ],
      "text/plain": [
       "   sepal_length  sepal_width  petal_length  petal_width species color  size\n",
       "0           5.1          3.5           1.4          0.2  setosa   red  14.0\n",
       "1           4.9          3.0           1.4          0.2  setosa   red  12.0\n",
       "2           4.7          3.2           1.3          0.2  setosa   red  12.8\n",
       "3           4.6          3.1           1.5          0.2  setosa   red  12.4\n",
       "4           5.0          3.6           1.4          0.2  setosa   red  14.4"
      ]
     },
     "execution_count": 43,
     "metadata": {},
     "output_type": "execute_result"
    }
   ],
   "source": [
    "flowers[flowers[\"species\"]==\"setosa\"].head()"
   ]
  },
  {
   "cell_type": "code",
   "execution_count": 21,
   "id": "2b027126-1ded-45b2-85b2-c27dcd3e158f",
   "metadata": {},
   "outputs": [
    {
     "data": {
      "text/plain": [
       "{'data',\n",
       " 'js_event_callbacks',\n",
       " 'js_property_callbacks',\n",
       " 'name',\n",
       " 'selected',\n",
       " 'selection_policy',\n",
       " 'subscribed_events',\n",
       " 'syncable',\n",
       " 'tags'}"
      ]
     },
     "execution_count": 21,
     "metadata": {},
     "output_type": "execute_result"
    }
   ],
   "source": [
    "setosa.properties()"
   ]
  },
  {
   "cell_type": "code",
   "execution_count": 27,
   "id": "c084326c-6b1b-49a9-9c59-8322a7ab33af",
   "metadata": {},
   "outputs": [
    {
     "data": {
      "text/plain": [
       "array([5.1, 4.9, 4.7, 4.6, 5. , 5.4, 4.6, 5. , 4.4, 4.9, 5.4, 4.8, 4.8,\n",
       "       4.3, 5.8, 5.7, 5.4, 5.1, 5.7, 5.1, 5.4, 5.1, 4.6, 5.1, 4.8, 5. ,\n",
       "       5. , 5.2, 5.2, 4.7, 4.8, 5.4, 5.2, 5.5, 4.9, 5. , 5.5, 4.9, 4.4,\n",
       "       5.1, 5. , 4.5, 4.4, 5. , 5.1, 4.8, 5.1, 4.6, 5.3, 5. ])"
      ]
     },
     "execution_count": 27,
     "metadata": {},
     "output_type": "execute_result"
    }
   ],
   "source": [
    "setosa.data['sepal_length']"
   ]
  },
  {
   "cell_type": "code",
   "execution_count": 57,
   "id": "3065b4d6-c277-48ca-8172-fa58dd26356d",
   "metadata": {},
   "outputs": [
    {
     "data": {
      "text/plain": [
       "{'index': array([ 0,  1,  2,  3,  4,  5,  6,  7,  8,  9, 10, 11, 12, 13, 14, 15, 16,\n",
       "        17, 18, 19, 20, 21, 22, 23, 24, 25, 26, 27, 28, 29, 30, 31, 32, 33,\n",
       "        34, 35, 36, 37, 38, 39, 40, 41, 42, 43, 44, 45, 46, 47, 48, 49],\n",
       "       dtype=int64),\n",
       " 'sepal_length': array([5.1, 4.9, 4.7, 4.6, 5. , 5.4, 4.6, 5. , 4.4, 4.9, 5.4, 4.8, 4.8,\n",
       "        4.3, 5.8, 5.7, 5.4, 5.1, 5.7, 5.1, 5.4, 5.1, 4.6, 5.1, 4.8, 5. ,\n",
       "        5. , 5.2, 5.2, 4.7, 4.8, 5.4, 5.2, 5.5, 4.9, 5. , 5.5, 4.9, 4.4,\n",
       "        5.1, 5. , 4.5, 4.4, 5. , 5.1, 4.8, 5.1, 4.6, 5.3, 5. ]),\n",
       " 'sepal_width': array([3.5, 3. , 3.2, 3.1, 3.6, 3.9, 3.4, 3.4, 2.9, 3.1, 3.7, 3.4, 3. ,\n",
       "        3. , 4. , 4.4, 3.9, 3.5, 3.8, 3.8, 3.4, 3.7, 3.6, 3.3, 3.4, 3. ,\n",
       "        3.4, 3.5, 3.4, 3.2, 3.1, 3.4, 4.1, 4.2, 3.1, 3.2, 3.5, 3.6, 3. ,\n",
       "        3.4, 3.5, 2.3, 3.2, 3.5, 3.8, 3. , 3.8, 3.2, 3.7, 3.3]),\n",
       " 'petal_length': array([1.4, 1.4, 1.3, 1.5, 1.4, 1.7, 1.4, 1.5, 1.4, 1.5, 1.5, 1.6, 1.4,\n",
       "        1.1, 1.2, 1.5, 1.3, 1.4, 1.7, 1.5, 1.7, 1.5, 1. , 1.7, 1.9, 1.6,\n",
       "        1.6, 1.5, 1.4, 1.6, 1.6, 1.5, 1.5, 1.4, 1.5, 1.2, 1.3, 1.4, 1.3,\n",
       "        1.5, 1.3, 1.3, 1.3, 1.6, 1.9, 1.4, 1.6, 1.4, 1.5, 1.4]),\n",
       " 'petal_width': array([0.2, 0.2, 0.2, 0.2, 0.2, 0.4, 0.3, 0.2, 0.2, 0.1, 0.2, 0.2, 0.1,\n",
       "        0.1, 0.2, 0.4, 0.4, 0.3, 0.3, 0.3, 0.2, 0.4, 0.2, 0.5, 0.2, 0.2,\n",
       "        0.4, 0.2, 0.2, 0.2, 0.2, 0.4, 0.1, 0.2, 0.2, 0.2, 0.2, 0.1, 0.2,\n",
       "        0.2, 0.3, 0.3, 0.2, 0.6, 0.4, 0.3, 0.2, 0.2, 0.2, 0.2]),\n",
       " 'species': array(['setosa', 'setosa', 'setosa', 'setosa', 'setosa', 'setosa',\n",
       "        'setosa', 'setosa', 'setosa', 'setosa', 'setosa', 'setosa',\n",
       "        'setosa', 'setosa', 'setosa', 'setosa', 'setosa', 'setosa',\n",
       "        'setosa', 'setosa', 'setosa', 'setosa', 'setosa', 'setosa',\n",
       "        'setosa', 'setosa', 'setosa', 'setosa', 'setosa', 'setosa',\n",
       "        'setosa', 'setosa', 'setosa', 'setosa', 'setosa', 'setosa',\n",
       "        'setosa', 'setosa', 'setosa', 'setosa', 'setosa', 'setosa',\n",
       "        'setosa', 'setosa', 'setosa', 'setosa', 'setosa', 'setosa',\n",
       "        'setosa', 'setosa'], dtype=object),\n",
       " 'color': array(['red', 'red', 'red', 'red', 'red', 'red', 'red', 'red', 'red',\n",
       "        'red', 'red', 'red', 'red', 'red', 'red', 'red', 'red', 'red',\n",
       "        'red', 'red', 'red', 'red', 'red', 'red', 'red', 'red', 'red',\n",
       "        'red', 'red', 'red', 'red', 'red', 'red', 'red', 'red', 'red',\n",
       "        'red', 'red', 'red', 'red', 'red', 'red', 'red', 'red', 'red',\n",
       "        'red', 'red', 'red', 'red', 'red'], dtype=object),\n",
       " 'size': array([14. , 12. , 12.8, 12.4, 14.4, 15.6, 13.6, 13.6, 11.6, 12.4, 14.8,\n",
       "        13.6, 12. , 12. , 16. , 17.6, 15.6, 14. , 15.2, 15.2, 13.6, 14.8,\n",
       "        14.4, 13.2, 13.6, 12. , 13.6, 14. , 13.6, 12.8, 12.4, 13.6, 16.4,\n",
       "        16.8, 12.4, 12.8, 14. , 14.4, 12. , 13.6, 14. ,  9.2, 12.8, 14. ,\n",
       "        15.2, 12. , 15.2, 12.8, 14.8, 13.2])}"
      ]
     },
     "execution_count": 57,
     "metadata": {},
     "output_type": "execute_result"
    }
   ],
   "source": [
    "setosa.data"
   ]
  },
  {
   "cell_type": "code",
   "execution_count": null,
   "id": "1629073b-8f98-45e6-898f-73ee29fb84c3",
   "metadata": {},
   "outputs": [],
   "source": []
  }
 ],
 "metadata": {
  "kernelspec": {
   "display_name": "Python 3 (ipykernel)",
   "language": "python",
   "name": "python3"
  },
  "language_info": {
   "codemirror_mode": {
    "name": "ipython",
    "version": 3
   },
   "file_extension": ".py",
   "mimetype": "text/x-python",
   "name": "python",
   "nbconvert_exporter": "python",
   "pygments_lexer": "ipython3",
   "version": "3.11.3"
  }
 },
 "nbformat": 4,
 "nbformat_minor": 5
}
