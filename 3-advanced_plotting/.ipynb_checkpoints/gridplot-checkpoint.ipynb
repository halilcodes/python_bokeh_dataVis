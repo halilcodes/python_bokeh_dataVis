{
 "cells": [
  {
   "cell_type": "code",
   "execution_count": 7,
   "id": "b4864ca7",
   "metadata": {},
   "outputs": [],
   "source": [
    "from bokeh.io import output_file, show\n",
    "from bokeh.layouts import gridplot\n",
    "from bokeh.plotting import figure\n",
    "\n",
    "output_file(\"layout_grid.html\")\n",
    "\n",
    "x = list(range(11))\n",
    "y0 = x\n",
    "y1 = [10 - i for i in x]\n",
    "y2 = [abs(i - 5) for i in x]\n",
    "\n",
    "# create three plots\n",
    "s1 = figure(title=\"Circles\", background_fill_color=\"#fafafa\")\n",
    "s1.circle(x, y0, size=12, alpha=0.8, color=\"#53777a\")\n",
    "\n",
    "s2 = figure(title=\"Triangles\", background_fill_color=\"#fafafa\")\n",
    "s2.triangle(x, y1, size=12, alpha=0.8, color=\"#c02942\")\n",
    "\n",
    "s3 = figure(title=\"Squares\", background_fill_color=\"#fafafa\")\n",
    "s3.square(x, y2, size=12, alpha=0.8, color=\"#d95b43\")\n",
    "\n",
    "# make a grid\n",
    "grid = gridplot([[s1, s2], [None, s3]], width=250, height=250)\n",
    "\n",
    "show(grid)"
   ]
  },
  {
   "cell_type": "code",
   "execution_count": null,
   "id": "b2dc6d45",
   "metadata": {},
   "outputs": [],
   "source": []
  }
 ],
 "metadata": {
  "kernelspec": {
   "display_name": "Python 3 (ipykernel)",
   "language": "python",
   "name": "python3"
  },
  "language_info": {
   "codemirror_mode": {
    "name": "ipython",
    "version": 3
   },
   "file_extension": ".py",
   "mimetype": "text/x-python",
   "name": "python",
   "nbconvert_exporter": "python",
   "pygments_lexer": "ipython3",
   "version": "3.11.4"
  }
 },
 "nbformat": 4,
 "nbformat_minor": 5
}
