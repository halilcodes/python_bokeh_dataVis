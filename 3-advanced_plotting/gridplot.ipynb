{
 "cells": [
  {
   "cell_type": "code",
   "execution_count": 8,
   "id": "7655bd94",
   "metadata": {},
   "outputs": [],
   "source": [
    "from bokeh.io import output_file, show\n",
    "from bokeh.layouts import gridplot\n",
    "from bokeh.plotting import figure\n",
    "\n",
    "output_file(\"layout_grid.html\")\n",
    "\n",
    "x = list(range(11))\n",
    "y0 = x\n",
    "y1 = [10 - i for i in x]\n",
    "y2 = [abs(i - 5) for i in x]\n",
    "\n",
    "# create three plots\n",
    "s1 = figure(title=\"Circles\", background_fill_color=\"#fafafa\")\n",
    "s1.circle(x, y0, size=12, alpha=0.8, color=\"#53777a\")\n",
    "\n",
    "s2 = figure(title=\"Triangles\", background_fill_color=\"#fafafa\")\n",
    "s2.triangle(x, y1, size=12, alpha=0.8, color=\"#c02942\")\n",
    "\n",
    "s3 = figure(title=\"Squares\", background_fill_color=\"#fafafa\")\n",
    "s3.square(x, y2, size=12, alpha=0.8, color=\"#d95b43\")\n",
    "\n",
    "# make a grid\n",
    "grid = gridplot([[s1, s2], [None, s3]], width=250, height=250)\n",
    "\n",
    "# show(grid)"
   ]
  },
  {
   "cell_type": "code",
   "execution_count": 12,
   "id": "dbbc6256",
   "metadata": {
    "scrolled": true
   },
   "outputs": [
    {
     "name": "stderr",
     "output_type": "stream",
     "text": [
      "C:\\Users\\User\\AppData\\Local\\Temp\\ipykernel_6964\\1015925049.py:9: SettingWithCopyWarning: \n",
      "A value is trying to be set on a copy of a slice from a DataFrame.\n",
      "Try using .loc[row_indexer,col_indexer] = value instead\n",
      "\n",
      "See the caveats in the documentation: https://pandas.pydata.org/pandas-docs/stable/user_guide/indexing.html#returning-a-view-versus-a-copy\n",
      "  elements['color'] = [colormap[i] for i in elements['standard state']]\n",
      "C:\\Users\\User\\AppData\\Local\\Temp\\ipykernel_6964\\1015925049.py:10: SettingWithCopyWarning: \n",
      "A value is trying to be set on a copy of a slice from a DataFrame.\n",
      "Try using .loc[row_indexer,col_indexer] = value instead\n",
      "\n",
      "See the caveats in the documentation: https://pandas.pydata.org/pandas-docs/stable/user_guide/indexing.html#returning-a-view-versus-a-copy\n",
      "  elements['size'] = elements['van der Waals radius'] / 10\n"
     ]
    }
   ],
   "source": [
    "from bokeh.sampledata.periodic_table import elements\n",
    "from bokeh.models import Range1d, PanTool, ResetTool, HoverTool, ColumnDataSource, LabelSet\n",
    "elements = elements.dropna()\n",
    "colormap = {\n",
    "    \"gas\": \"yellow\",\n",
    "    \"liquid\": \"orange\",\n",
    "    \"solid\": \"red\"\n",
    "}\n",
    "elements['color'] = [colormap[i] for i in elements['standard state']]\n",
    "elements['size'] = elements['van der Waals radius'] / 10\n",
    "\n",
    "gas = ColumnDataSource(elements[elements['standard state'] == 'gas'])\n",
    "liquid = ColumnDataSource(elements[elements['standard state'] == 'liquid'])\n",
    "solid = ColumnDataSource(elements[elements['standard state'] == 'solid'])\n",
    "\n",
    "#Define the output file path\n",
    "output_file(\"periodic_grid.html\")\n",
    "\n",
    "#Create the figure object\n",
    "f1 = figure()\n",
    "f2 = figure()\n",
    "f3 = figure()\n",
    "\n",
    "#adding glyphs\n",
    "\n",
    "f1.circle(x='atomic radius', y='boiling point', size='size', fill_alpha=0.2,\n",
    "         color=\"color\", line_dash='dotted', legend_label='Gas', source=gas)\n",
    "\n",
    "f2.circle(x='atomic radius', y='boiling point', size='size', fill_alpha=0.2,\n",
    "        color=\"color\", line_dash='dotted', legend_label='Liquid', source=liquid)\n",
    "\n",
    "f3.circle(x='atomic radius', y='boiling point', size='size', fill_alpha=0.2,\n",
    "        color=\"color\", line_dash='dotted', legend_label='Solid', source=solid)\n",
    "\n",
    "# f.legend.location = \"top_left\"\n",
    "f1.xaxis.axis_label = \"Atomic Radius\"\n",
    "f1.yaxis.axis_label = \"Boiling Point\"\n",
    "f2.xaxis.axis_label = \"Atomic Radius\"\n",
    "f2.yaxis.axis_label = \"Boiling Point\"\n",
    "f3.xaxis.axis_label = \"Atomic Radius\"\n",
    "f3.yaxis.axis_label = \"Boiling Point\"\n",
    "\n",
    "# # make a grid\n",
    "# grid = gridplot([[f1, f2], [None, f3]], width=250, height=250)\n",
    "\n",
    "# make a grid\n",
    "grid = gridplot([[f1, f2], [None, f3]])\n",
    "show(grid)\n"
   ]
  },
  {
   "cell_type": "code",
   "execution_count": null,
   "id": "3c9212ad",
   "metadata": {},
   "outputs": [],
   "source": []
  }
 ],
 "metadata": {
  "kernelspec": {
   "display_name": "Python 3 (ipykernel)",
   "language": "python",
   "name": "python3"
  },
  "language_info": {
   "codemirror_mode": {
    "name": "ipython",
    "version": 3
   },
   "file_extension": ".py",
   "mimetype": "text/x-python",
   "name": "python",
   "nbconvert_exporter": "python",
   "pygments_lexer": "ipython3",
   "version": "3.11.4"
  }
 },
 "nbformat": 4,
 "nbformat_minor": 5
}
